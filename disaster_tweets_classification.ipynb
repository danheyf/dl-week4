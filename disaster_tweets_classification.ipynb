{
  "cells": [
    {
      "cell_type": "markdown",
      "source": [
        "# Natural Language Processing with Disaster Tweets\n",
        "\n",
        "## Classification of Real vs Non-Real Disaster Tweets\n",
        "\n",
        "**Objective**: Build a machine learning model to predict whether tweets are about real disasters or not.\n",
        "\n",
        "## 1. Problem Description and Data Overview\n",
        "\n",
        "### Problem Description\n",
        "Twitter has become a vital communication channel during emergencies. People use smartphones to announce disasters in real-time, making it valuable for disaster relief organizations and news agencies. However, not all tweets mentioning disaster-related words are about actual disasters.\n",
        "\n",
        "For example, someone might tweet \"The party was ABLAZE last night!\" using \"ablaze\" metaphorically, not referring to an actual fire.\n",
        "\n",
        "**Goal**: Create an NLP model that can automatically classify tweets as:\n",
        "- **1**: Real disaster\n",
        "- **0**: Not a real disaster\n",
        "\n",
        "### Natural Language Processing (NLP)\n",
        "NLP is a field of artificial intelligence that helps computers understand, interpret, and generate human language. Key challenges include:\n",
        "- Understanding context and meaning\n",
        "- Handling ambiguous language\n",
        "- Processing informal text (like tweets with abbreviations, emojis, etc.)\n",
        "\n",
        "### Data Description\n",
        "Our dataset contains 10,000 tweets that were manually classified. Let's explore the data structure.\n"
      ],
      "metadata": {
        "id": "x6HD6SpE-9BD"
      }
    },
    {
      "cell_type": "code",
      "execution_count": null,
      "metadata": {
        "id": "9jkmJNFV9sAB",
        "outputId": "1a9715e5-e43c-42a4-dbcc-205847b0c8db"
      },
      "outputs": [
        {
          "name": "stdout",
          "output_type": "stream",
          "text": [
            "Libraries imported successfully!\n"
          ]
        }
      ],
      "source": [
        "# Import necessary libraries\n",
        "import pandas as pd\n",
        "import numpy as np\n",
        "import matplotlib.pyplot as plt\n",
        "import seaborn as sns\n",
        "import re\n",
        "import warnings\n",
        "warnings.filterwarnings('ignore')\n",
        "\n",
        "# Set up plotting style\n",
        "plt.style.use('default')\n",
        "sns.set_palette(\"husl\")\n",
        "\n",
        "print(\"Libraries imported successfully!\")\n"
      ]
    },
    {
      "cell_type": "code",
      "execution_count": null,
      "metadata": {
        "id": "RD-XINMF9sAB",
        "outputId": "8db0e034-bacd-42fb-ab90-92f4ac2679c6"
      },
      "outputs": [
        {
          "name": "stdout",
          "output_type": "stream",
          "text": [
            "Training data shape: (7613, 5)\n",
            "Test data shape: (3263, 4)\n",
            "Sample submission shape: (3263, 2)\n"
          ]
        }
      ],
      "source": [
        "# Load the data\n",
        "train_df = pd.read_csv('data/train.csv')\n",
        "test_df = pd.read_csv('data/test.csv')\n",
        "submission_df = pd.read_csv('data/sample_submission.csv')\n",
        "\n",
        "print(f\"Training data shape: {train_df.shape}\")\n",
        "print(f\"Test data shape: {test_df.shape}\")\n",
        "print(f\"Sample submission shape: {submission_df.shape}\")\n"
      ]
    },
    {
      "cell_type": "code",
      "execution_count": null,
      "metadata": {
        "id": "daWdgMdm9sAB",
        "outputId": "ac9b642f-9412-43f3-de81-50203db328c3"
      },
      "outputs": [
        {
          "name": "stdout",
          "output_type": "stream",
          "text": [
            "Training Data Columns:\n",
            "['id', 'keyword', 'location', 'text', 'target', 'clean_text']\n",
            "\n",
            "First 5 rows:\n"
          ]
        },
        {
          "data": {
            "text/html": [
              "<div>\n",
              "<style scoped>\n",
              "    .dataframe tbody tr th:only-of-type {\n",
              "        vertical-align: middle;\n",
              "    }\n",
              "\n",
              "    .dataframe tbody tr th {\n",
              "        vertical-align: top;\n",
              "    }\n",
              "\n",
              "    .dataframe thead th {\n",
              "        text-align: right;\n",
              "    }\n",
              "</style>\n",
              "<table border=\"1\" class=\"dataframe\">\n",
              "  <thead>\n",
              "    <tr style=\"text-align: right;\">\n",
              "      <th></th>\n",
              "      <th>id</th>\n",
              "      <th>keyword</th>\n",
              "      <th>location</th>\n",
              "      <th>text</th>\n",
              "      <th>target</th>\n",
              "      <th>clean_text</th>\n",
              "    </tr>\n",
              "  </thead>\n",
              "  <tbody>\n",
              "    <tr>\n",
              "      <th>0</th>\n",
              "      <td>1</td>\n",
              "      <td>NaN</td>\n",
              "      <td>NaN</td>\n",
              "      <td>Our Deeds are the Reason of this #earthquake M...</td>\n",
              "      <td>1</td>\n",
              "      <td>our deeds are the reason of this earthquake ma...</td>\n",
              "    </tr>\n",
              "    <tr>\n",
              "      <th>1</th>\n",
              "      <td>4</td>\n",
              "      <td>NaN</td>\n",
              "      <td>NaN</td>\n",
              "      <td>Forest fire near La Ronge Sask. Canada</td>\n",
              "      <td>1</td>\n",
              "      <td>forest fire near la ronge sask. canada</td>\n",
              "    </tr>\n",
              "    <tr>\n",
              "      <th>2</th>\n",
              "      <td>5</td>\n",
              "      <td>NaN</td>\n",
              "      <td>NaN</td>\n",
              "      <td>All residents asked to 'shelter in place' are ...</td>\n",
              "      <td>1</td>\n",
              "      <td>all residents asked to 'shelter in place' are ...</td>\n",
              "    </tr>\n",
              "    <tr>\n",
              "      <th>3</th>\n",
              "      <td>6</td>\n",
              "      <td>NaN</td>\n",
              "      <td>NaN</td>\n",
              "      <td>13,000 people receive #wildfires evacuation or...</td>\n",
              "      <td>1</td>\n",
              "      <td>13,000 people receive wildfires evacuation ord...</td>\n",
              "    </tr>\n",
              "    <tr>\n",
              "      <th>4</th>\n",
              "      <td>7</td>\n",
              "      <td>NaN</td>\n",
              "      <td>NaN</td>\n",
              "      <td>Just got sent this photo from Ruby #Alaska as ...</td>\n",
              "      <td>1</td>\n",
              "      <td>just got sent this photo from ruby alaska as s...</td>\n",
              "    </tr>\n",
              "  </tbody>\n",
              "</table>\n",
              "</div>"
            ],
            "text/plain": [
              "   id keyword location                                               text  \\\n",
              "0   1     NaN      NaN  Our Deeds are the Reason of this #earthquake M...   \n",
              "1   4     NaN      NaN             Forest fire near La Ronge Sask. Canada   \n",
              "2   5     NaN      NaN  All residents asked to 'shelter in place' are ...   \n",
              "3   6     NaN      NaN  13,000 people receive #wildfires evacuation or...   \n",
              "4   7     NaN      NaN  Just got sent this photo from Ruby #Alaska as ...   \n",
              "\n",
              "   target                                         clean_text  \n",
              "0       1  our deeds are the reason of this earthquake ma...  \n",
              "1       1             forest fire near la ronge sask. canada  \n",
              "2       1  all residents asked to 'shelter in place' are ...  \n",
              "3       1  13,000 people receive wildfires evacuation ord...  \n",
              "4       1  just got sent this photo from ruby alaska as s...  "
            ]
          },
          "execution_count": 14,
          "metadata": {},
          "output_type": "execute_result"
        }
      ],
      "source": [
        "# Examine the data structure\n",
        "print(\"Training Data Columns:\")\n",
        "print(train_df.columns.tolist())\n",
        "print(\"\\nFirst 5 rows:\")\n",
        "train_df.head()\n"
      ]
    },
    {
      "cell_type": "markdown",
      "source": [
        "## 2. Exploratory Data Analysis (EDA)\n",
        "\n",
        "Let's understand our data better through visualization and analysis."
      ],
      "metadata": {
        "id": "BMoe-73P_cNY"
      }
    },
    {
      "cell_type": "code",
      "execution_count": null,
      "metadata": {
        "id": "Swt0f0Mq9sAC",
        "outputId": "721cfe78-aa64-4a81-ea29-9ae66cd45588"
      },
      "outputs": [
        {
          "data": {
            "image/png": "[encoded data removed]",
            "text/plain": [
              "<Figure size 1200x500 with 2 Axes>"
            ]
          },
          "metadata": {},
          "output_type": "display_data"
        },
        {
          "name": "stdout",
          "output_type": "stream",
          "text": [
            "Not Disaster tweets: 4342 (57.0%)\n",
            "Disaster tweets: 3271 (43.0%)\n"
          ]
        }
      ],
      "source": [
        "# Target distribution\n",
        "plt.figure(figsize=(12, 5))\n",
        "\n",
        "# Bar plot\n",
        "plt.subplot(1, 2, 1)\n",
        "target_counts = train_df['target'].value_counts()\n",
        "target_counts.plot(kind='bar', color=['lightcoral', 'skyblue'])\n",
        "plt.title('Distribution of Target Classes')\n",
        "plt.xlabel('Target (0=Not Disaster, 1=Disaster)')\n",
        "plt.ylabel('Count')\n",
        "plt.xticks(rotation=0)\n",
        "\n",
        "# Pie chart\n",
        "plt.subplot(1, 2, 2)\n",
        "plt.pie(target_counts.values, labels=['Not Disaster', 'Disaster'], autopct='%1.1f%%',\n",
        "        colors=['lightcoral', 'skyblue'])\n",
        "plt.title('Target Distribution')\n",
        "\n",
        "plt.tight_layout()\n",
        "plt.show()\n",
        "\n",
        "print(f\"Not Disaster tweets: {target_counts[0]} ({target_counts[0]/len(train_df)*100:.1f}%)\")\n",
        "print(f\"Disaster tweets: {target_counts[1]} ({target_counts[1]/len(train_df)*100:.1f}%)\")\n"
      ]
    },
    {
      "cell_type": "code",
      "execution_count": null,
      "metadata": {
        "id": "XBSyZh5u9sAC",
        "outputId": "a85f5da0-0dc8-44c8-f271-a75ae5fb7b1a"
      },
      "outputs": [
        {
          "name": "stdout",
          "output_type": "stream",
          "text": [
            "=== EXAMPLE DISASTER TWEETS ===\n",
            "\n",
            "Keyword: floods\n",
            "Text: Nearly 50 thousand people affected by floods in #Paraguay ? http://t.co/aw23wXtyjB http://t.co/ABgct9VFUa\n",
            "--------------------------------------------------\n",
            "Keyword: armageddon\n",
            "Text: Vladimir Putin Issues Major Warning But Is It Too Late To Escape Armageddon?\n",
            "http://t.co/gBxafy1m1C\n",
            "--------------------------------------------------\n",
            "Keyword: buildings%20burning\n",
            "Text: @DoctorFluxx @StefanEJones @spinnellii @themermacorn  No burning buildings and rob during a riot. That's embarrassing &amp; ruining this nation.\n",
            "--------------------------------------------------\n",
            "\n",
            "=== EXAMPLE NON-DISASTER TWEETS ===\n",
            "\n",
            "Keyword: fatality\n",
            "Text: Everyday is a near death fatality for me on the road. Thank god is on my side.??\n",
            "--------------------------------------------------\n",
            "Keyword: hazard\n",
            "Text: #Lifestyle Û÷It makes me sickÛª: Baby clothes deemed a Û÷hazardÛª http://t.co/0XrfVidxA2 http://t.co/oIHwgEZDCk\n",
            "--------------------------------------------------\n",
            "Keyword: inundated\n",
            "Text: @Lenn_Len Probably. We are inundated with them most years!\n",
            "--------------------------------------------------\n"
          ]
        }
      ],
      "source": [
        "# Look at some example tweets\n",
        "print(\"=== EXAMPLE DISASTER TWEETS ===\\n\")\n",
        "disaster_examples = train_df[train_df['target']==1].sample(3, random_state=42)\n",
        "for idx, row in disaster_examples.iterrows():\n",
        "    print(f\"Keyword: {row['keyword']}\")\n",
        "    print(f\"Text: {row['text']}\")\n",
        "    print(\"-\" * 50)\n",
        "\n",
        "print(\"\\n=== EXAMPLE NON-DISASTER TWEETS ===\\n\")\n",
        "non_disaster_examples = train_df[train_df['target']==0].sample(3, random_state=42)\n",
        "for idx, row in non_disaster_examples.iterrows():\n",
        "    print(f\"Keyword: {row['keyword']}\")\n",
        "    print(f\"Text: {row['text']}\")\n",
        "    print(\"-\" * 50)\n"
      ]
    },
    {
      "cell_type": "markdown",
      "source": [
        "## 3. Data Preprocessing and Feature Engineering\n",
        "\n",
        "### Text Cleaning Strategy\n",
        "Based on our EDA, here's our plan:\n",
        "1. **Text Preprocessing**: Clean tweets by removing URLs, mentions, special characters\n",
        "2. **Handle Missing Values**: Keywords and locations have missing values, but text is complete\n",
        "3. **Feature Engineering**: Extract useful features from text\n",
        "4. **Word Embeddings**: Convert text to numerical format using tokenization and embeddings\n",
        "5. **Model Building**: Use a sequential neural network for classification\n"
      ],
      "metadata": {
        "id": "-IlDHhYM_oi_"
      }
    },
    {
      "cell_type": "code",
      "execution_count": null,
      "metadata": {
        "id": "NUBjnoCY9sAC",
        "outputId": "056f03d9-600a-45c0-9027-cdde2604f498"
      },
      "outputs": [
        {
          "name": "stdout",
          "output_type": "stream",
          "text": [
            "Text cleaning completed!\n",
            "\n",
            "Example of text cleaning:\n",
            "Original: Our Deeds are the Reason of this #earthquake May ALLAH Forgive us all\n",
            "Cleaned:  our deeds are the reason of this earthquake may allah forgive us all\n"
          ]
        }
      ],
      "source": [
        "import string\n",
        "from sklearn.feature_extraction.text import TfidfVectorizer\n",
        "from sklearn.model_selection import train_test_split\n",
        "from sklearn.metrics import classification_report, confusion_matrix, f1_score\n",
        "\n",
        "def clean_text(text):\n",
        "    \"\"\"Clean tweet text by removing URLs, mentions, and special characters\"\"\"\n",
        "    if pd.isna(text):\n",
        "        return \"\"\n",
        "\n",
        "    # Remove URLs\n",
        "    text = re.sub(r'http\\S+|www\\S+|https\\S+', '', text, flags=re.MULTILINE)\n",
        "\n",
        "    # Remove user mentions and hashtags symbols (but keep the text)\n",
        "    text = re.sub(r'@\\w+|#', '', text)\n",
        "\n",
        "    # Remove extra whitespace\n",
        "    text = re.sub(r'\\s+', ' ', text)\n",
        "    text = text.strip()\n",
        "\n",
        "    # Convert to lowercase\n",
        "    text = text.lower()\n",
        "\n",
        "    return text\n",
        "\n",
        "# Apply text cleaning\n",
        "train_df['clean_text'] = train_df['text'].apply(clean_text)\n",
        "test_df['clean_text'] = test_df['text'].apply(clean_text)\n",
        "\n",
        "print(\"Text cleaning completed!\")\n",
        "\n",
        "# Show example of cleaning\n",
        "print(\"\\nExample of text cleaning:\")\n",
        "example_idx = 0\n",
        "print(f\"Original: {train_df.iloc[example_idx]['text']}\")\n",
        "print(f\"Cleaned:  {train_df.iloc[example_idx]['clean_text']}\")\n"
      ]
    },
    {
      "cell_type": "markdown",
      "source": [
        "## 4. Model Architecture and Word Embeddings\n",
        "\n",
        "### Word Embeddings Explanation\n",
        "To train a neural network on text, we need to convert words into numbers. We'll use **Tokenization** and **Word Embeddings**:\n",
        "\n",
        "1. **Tokenization**: Convert text into sequences of integers (each word gets a unique number)\n",
        "2. **Embedding Layer**: Learns to represent each word as a dense vector of numbers\n",
        "3. **Global Max Pooling**: Extracts the most important features from the entire text sequence\n",
        "4. **Dense Layers**: Learn patterns and make the final classification\n",
        "\n",
        "### Why This Architecture?\n",
        "**Global Max Pooling** is effective for text classification because:\n",
        "- It captures the most important words/features regardless of position\n",
        "- It's simpler and more stable than recurrent layers\n",
        "- It handles variable-length sentences well\n",
        "- It's less prone to overfitting on smaller datasets\n"
      ],
      "metadata": {
        "id": "smU6zfgf_sRw"
      }
    },
    {
      "cell_type": "code",
      "execution_count": null,
      "metadata": {
        "id": "EcN4wS7B9sAC",
        "outputId": "c11e4716-303c-4f3b-b4fb-edf46e62ce52"
      },
      "outputs": [
        {
          "name": "stdout",
          "output_type": "stream",
          "text": [
            "TensorFlow imported successfully!\n",
            "Training data shape: (7613, 100)\n",
            "Test data shape: (3263, 100)\n",
            "Vocabulary size: 15863\n",
            "Training split: (6090, 100), Validation split: (1523, 100)\n"
          ]
        }
      ],
      "source": [
        "# Install and import TensorFlow if needed\n",
        "try:\n",
        "    import tensorflow as tf\n",
        "    from tensorflow.keras.models import Sequential\n",
        "    from tensorflow.keras.layers import Dense, Embedding, Dropout\n",
        "    from tensorflow.keras.preprocessing.text import Tokenizer\n",
        "    from tensorflow.keras.preprocessing.sequence import pad_sequences\n",
        "    from tensorflow.keras.callbacks import EarlyStopping\n",
        "    print(\"TensorFlow imported successfully!\")\n",
        "except ImportError:\n",
        "    print(\"Installing TensorFlow...\")\n",
        "    import subprocess\n",
        "    subprocess.check_call(['pip', 'install', 'tensorflow'])\n",
        "    import tensorflow as tf\n",
        "    from tensorflow.keras.models import Sequential\n",
        "    from tensorflow.keras.layers import Dense, Embedding, Dropout\n",
        "    from tensorflow.keras.preprocessing.text import Tokenizer\n",
        "    from tensorflow.keras.preprocessing.sequence import pad_sequences\n",
        "    from tensorflow.keras.callbacks import EarlyStopping\n",
        "    print(\"TensorFlow installed and imported!\")\n",
        "\n",
        "# Prepare data for neural network\n",
        "MAX_WORDS = 10000  # Maximum number of words to keep\n",
        "MAX_LEN = 100      # Maximum length of each tweet\n",
        "\n",
        "# Initialize tokenizer\n",
        "tokenizer = Tokenizer(num_words=MAX_WORDS, oov_token=\"<OOV>\")\n",
        "tokenizer.fit_on_texts(train_df['clean_text'])\n",
        "\n",
        "# Convert texts to sequences\n",
        "X_train_seq = tokenizer.texts_to_sequences(train_df['clean_text'])\n",
        "X_test_seq = tokenizer.texts_to_sequences(test_df['clean_text'])\n",
        "\n",
        "# Pad sequences to have the same length\n",
        "X_train_pad = pad_sequences(X_train_seq, maxlen=MAX_LEN, padding='post')\n",
        "X_test_pad = pad_sequences(X_test_seq, maxlen=MAX_LEN, padding='post')\n",
        "\n",
        "# Get target variable\n",
        "y_train = train_df['target'].values\n",
        "\n",
        "print(f\"Training data shape: {X_train_pad.shape}\")\n",
        "print(f\"Test data shape: {X_test_pad.shape}\")\n",
        "print(f\"Vocabulary size: {len(tokenizer.word_index)}\")\n",
        "\n",
        "# Split training data for validation\n",
        "X_train_split, X_val_split, y_train_split, y_val_split = train_test_split(\n",
        "    X_train_pad, y_train, test_size=0.2, random_state=42, stratify=y_train\n",
        ")\n",
        "\n",
        "print(f\"Training split: {X_train_split.shape}, Validation split: {X_val_split.shape}\")\n"
      ]
    },
    {
      "cell_type": "code",
      "execution_count": null,
      "metadata": {
        "id": "8AAYvxwU9sAC",
        "outputId": "8c7036fd-db6c-4b92-e9bc-fd240028c5c2"
      },
      "outputs": [
        {
          "data": {
            "text/html": [
              "<pre style=\"white-space:pre;overflow-x:auto;line-height:normal;font-family:Menlo,'DejaVu Sans Mono',consolas,'Courier New',monospace\"><span style=\"font-weight: bold\">Model: \"sequential_1\"</span>\n",
              "</pre>\n"
            ],
            "text/plain": [
              "\u001b[1mModel: \"sequential_1\"\u001b[0m\n"
            ]
          },
          "metadata": {},
          "output_type": "display_data"
        },
        {
          "data": {
            "text/html": [
              "<pre style=\"white-space:pre;overflow-x:auto;line-height:normal;font-family:Menlo,'DejaVu Sans Mono',consolas,'Courier New',monospace\">┏━━━━━━━━━━━━━━━━━━━━━━━━━━━━━━━━━┳━━━━━━━━━━━━━━━━━━━━━━━━┳━━━━━━━━━━━━━━━┓\n",
              "┃<span style=\"font-weight: bold\"> Layer (type)                    </span>┃<span style=\"font-weight: bold\"> Output Shape           </span>┃<span style=\"font-weight: bold\">       Param # </span>┃\n",
              "┡━━━━━━━━━━━━━━━━━━━━━━━━━━━━━━━━━╇━━━━━━━━━━━━━━━━━━━━━━━━╇━━━━━━━━━━━━━━━┩\n",
              "│ embedding_1 (<span style=\"color: #0087ff; text-decoration-color: #0087ff\">Embedding</span>)         │ ?                      │   <span style=\"color: #00af00; text-decoration-color: #00af00\">0</span> (unbuilt) │\n",
              "├─────────────────────────────────┼────────────────────────┼───────────────┤\n",
              "│ global_max_pooling1d            │ ?                      │             <span style=\"color: #00af00; text-decoration-color: #00af00\">0</span> │\n",
              "│ (<span style=\"color: #0087ff; text-decoration-color: #0087ff\">GlobalMaxPooling1D</span>)            │                        │               │\n",
              "├─────────────────────────────────┼────────────────────────┼───────────────┤\n",
              "│ dense_2 (<span style=\"color: #0087ff; text-decoration-color: #0087ff\">Dense</span>)                 │ ?                      │   <span style=\"color: #00af00; text-decoration-color: #00af00\">0</span> (unbuilt) │\n",
              "├─────────────────────────────────┼────────────────────────┼───────────────┤\n",
              "│ dropout_1 (<span style=\"color: #0087ff; text-decoration-color: #0087ff\">Dropout</span>)             │ ?                      │             <span style=\"color: #00af00; text-decoration-color: #00af00\">0</span> │\n",
              "├─────────────────────────────────┼────────────────────────┼───────────────┤\n",
              "│ dense_3 (<span style=\"color: #0087ff; text-decoration-color: #0087ff\">Dense</span>)                 │ ?                      │   <span style=\"color: #00af00; text-decoration-color: #00af00\">0</span> (unbuilt) │\n",
              "├─────────────────────────────────┼────────────────────────┼───────────────┤\n",
              "│ dropout_2 (<span style=\"color: #0087ff; text-decoration-color: #0087ff\">Dropout</span>)             │ ?                      │             <span style=\"color: #00af00; text-decoration-color: #00af00\">0</span> │\n",
              "├─────────────────────────────────┼────────────────────────┼───────────────┤\n",
              "│ dense_4 (<span style=\"color: #0087ff; text-decoration-color: #0087ff\">Dense</span>)                 │ ?                      │   <span style=\"color: #00af00; text-decoration-color: #00af00\">0</span> (unbuilt) │\n",
              "└─────────────────────────────────┴────────────────────────┴───────────────┘\n",
              "</pre>\n"
            ],
            "text/plain": [
              "┏━━━━━━━━━━━━━━━━━━━━━━━━━━━━━━━━━┳━━━━━━━━━━━━━━━━━━━━━━━━┳━━━━━━━━━━━━━━━┓\n",
              "┃\u001b[1m \u001b[0m\u001b[1mLayer (type)                   \u001b[0m\u001b[1m \u001b[0m┃\u001b[1m \u001b[0m\u001b[1mOutput Shape          \u001b[0m\u001b[1m \u001b[0m┃\u001b[1m \u001b[0m\u001b[1m      Param #\u001b[0m\u001b[1m \u001b[0m┃\n",
              "┡━━━━━━━━━━━━━━━━━━━━━━━━━━━━━━━━━╇━━━━━━━━━━━━━━━━━━━━━━━━╇━━━━━━━━━━━━━━━┩\n",
              "│ embedding_1 (\u001b[38;5;33mEmbedding\u001b[0m)         │ ?                      │   \u001b[38;5;34m0\u001b[0m (unbuilt) │\n",
              "├─────────────────────────────────┼────────────────────────┼───────────────┤\n",
              "│ global_max_pooling1d            │ ?                      │             \u001b[38;5;34m0\u001b[0m │\n",
              "│ (\u001b[38;5;33mGlobalMaxPooling1D\u001b[0m)            │                        │               │\n",
              "├─────────────────────────────────┼────────────────────────┼───────────────┤\n",
              "│ dense_2 (\u001b[38;5;33mDense\u001b[0m)                 │ ?                      │   \u001b[38;5;34m0\u001b[0m (unbuilt) │\n",
              "├─────────────────────────────────┼────────────────────────┼───────────────┤\n",
              "│ dropout_1 (\u001b[38;5;33mDropout\u001b[0m)             │ ?                      │             \u001b[38;5;34m0\u001b[0m │\n",
              "├─────────────────────────────────┼────────────────────────┼───────────────┤\n",
              "│ dense_3 (\u001b[38;5;33mDense\u001b[0m)                 │ ?                      │   \u001b[38;5;34m0\u001b[0m (unbuilt) │\n",
              "├─────────────────────────────────┼────────────────────────┼───────────────┤\n",
              "│ dropout_2 (\u001b[38;5;33mDropout\u001b[0m)             │ ?                      │             \u001b[38;5;34m0\u001b[0m │\n",
              "├─────────────────────────────────┼────────────────────────┼───────────────┤\n",
              "│ dense_4 (\u001b[38;5;33mDense\u001b[0m)                 │ ?                      │   \u001b[38;5;34m0\u001b[0m (unbuilt) │\n",
              "└─────────────────────────────────┴────────────────────────┴───────────────┘\n"
            ]
          },
          "metadata": {},
          "output_type": "display_data"
        },
        {
          "data": {
            "text/html": [
              "<pre style=\"white-space:pre;overflow-x:auto;line-height:normal;font-family:Menlo,'DejaVu Sans Mono',consolas,'Courier New',monospace\"><span style=\"font-weight: bold\"> Total params: </span><span style=\"color: #00af00; text-decoration-color: #00af00\">0</span> (0.00 B)\n",
              "</pre>\n"
            ],
            "text/plain": [
              "\u001b[1m Total params: \u001b[0m\u001b[38;5;34m0\u001b[0m (0.00 B)\n"
            ]
          },
          "metadata": {},
          "output_type": "display_data"
        },
        {
          "data": {
            "text/html": [
              "<pre style=\"white-space:pre;overflow-x:auto;line-height:normal;font-family:Menlo,'DejaVu Sans Mono',consolas,'Courier New',monospace\"><span style=\"font-weight: bold\"> Trainable params: </span><span style=\"color: #00af00; text-decoration-color: #00af00\">0</span> (0.00 B)\n",
              "</pre>\n"
            ],
            "text/plain": [
              "\u001b[1m Trainable params: \u001b[0m\u001b[38;5;34m0\u001b[0m (0.00 B)\n"
            ]
          },
          "metadata": {},
          "output_type": "display_data"
        },
        {
          "data": {
            "text/html": [
              "<pre style=\"white-space:pre;overflow-x:auto;line-height:normal;font-family:Menlo,'DejaVu Sans Mono',consolas,'Courier New',monospace\"><span style=\"font-weight: bold\"> Non-trainable params: </span><span style=\"color: #00af00; text-decoration-color: #00af00\">0</span> (0.00 B)\n",
              "</pre>\n"
            ],
            "text/plain": [
              "\u001b[1m Non-trainable params: \u001b[0m\u001b[38;5;34m0\u001b[0m (0.00 B)\n"
            ]
          },
          "metadata": {},
          "output_type": "display_data"
        }
      ],
      "source": [
        "# Build Neural Network model\n",
        "from tensorflow.keras.optimizers import Adam\n",
        "\n",
        "def create_disaster_classifier():\n",
        "    \"\"\"Create a neural network for disaster tweet classification\"\"\"\n",
        "    model = Sequential([\n",
        "        # Embedding layer: converts word indices to dense vectors\n",
        "        Embedding(input_dim=MAX_WORDS, output_dim=64, input_length=MAX_LEN),\n",
        "\n",
        "        # Global Max Pooling: extracts the most important features\n",
        "        tf.keras.layers.GlobalMaxPooling1D(),\n",
        "\n",
        "        # Dense layers for classification\n",
        "        Dense(64, activation='relu'),\n",
        "        Dropout(0.3),\n",
        "        Dense(32, activation='relu'),\n",
        "        Dropout(0.3),\n",
        "        Dense(1, activation='sigmoid')  # Binary classification\n",
        "    ])\n",
        "\n",
        "    # Use Adam optimizer with controlled learning rate\n",
        "    optimizer = Adam(learning_rate=0.001)\n",
        "\n",
        "    model.compile(\n",
        "        optimizer=optimizer,\n",
        "        loss='binary_crossentropy',\n",
        "        metrics=['accuracy']\n",
        "    )\n",
        "\n",
        "    return model\n",
        "\n",
        "# Create and display model\n",
        "model = create_disaster_classifier()\n",
        "model.summary()\n"
      ]
    },
    {
      "cell_type": "markdown",
      "source": [
        "## 5. Model Training and Results"
      ],
      "metadata": {
        "id": "m9A8_jV9_zP5"
      }
    },
    {
      "cell_type": "code",
      "execution_count": null,
      "metadata": {
        "id": "DvOTaQkY9sAD",
        "outputId": "8304e1c9-abb1-4ef2-caac-d142f8945816"
      },
      "outputs": [
        {
          "name": "stdout",
          "output_type": "stream",
          "text": [
            "Training the disaster classification model...\n",
            "Epoch 1/15\n",
            "\u001b[1m96/96\u001b[0m \u001b[32m━━━━━━━━━━━━━━━━━━━━\u001b[0m\u001b[37m\u001b[0m \u001b[1m1s\u001b[0m 4ms/step - accuracy: 0.5490 - loss: 0.6862 - val_accuracy: 0.5817 - val_loss: 0.6529\n",
            "Epoch 2/15\n",
            "\u001b[1m96/96\u001b[0m \u001b[32m━━━━━━━━━━━━━━━━━━━━\u001b[0m\u001b[37m\u001b[0m \u001b[1m0s\u001b[0m 3ms/step - accuracy: 0.6993 - loss: 0.5801 - val_accuracy: 0.7971 - val_loss: 0.4550\n",
            "Epoch 3/15\n",
            "\u001b[1m96/96\u001b[0m \u001b[32m━━━━━━━━━━━━━━━━━━━━\u001b[0m\u001b[37m\u001b[0m \u001b[1m0s\u001b[0m 3ms/step - accuracy: 0.8816 - loss: 0.3262 - val_accuracy: 0.7807 - val_loss: 0.4627\n",
            "Epoch 4/15\n",
            "\u001b[1m96/96\u001b[0m \u001b[32m━━━━━━━━━━━━━━━━━━━━\u001b[0m\u001b[37m\u001b[0m \u001b[1m0s\u001b[0m 3ms/step - accuracy: 0.9308 - loss: 0.2154 - val_accuracy: 0.7965 - val_loss: 0.4934\n",
            "Epoch 5/15\n",
            "\u001b[1m96/96\u001b[0m \u001b[32m━━━━━━━━━━━━━━━━━━━━\u001b[0m\u001b[37m\u001b[0m \u001b[1m0s\u001b[0m 3ms/step - accuracy: 0.9576 - loss: 0.1374 - val_accuracy: 0.7853 - val_loss: 0.5826\n",
            "Epoch 6/15\n",
            "\u001b[1m96/96\u001b[0m \u001b[32m━━━━━━━━━━━━━━━━━━━━\u001b[0m\u001b[37m\u001b[0m \u001b[1m0s\u001b[0m 3ms/step - accuracy: 0.9717 - loss: 0.0944 - val_accuracy: 0.7945 - val_loss: 0.6416\n",
            "Epoch 7/15\n",
            "\u001b[1m96/96\u001b[0m \u001b[32m━━━━━━━━━━━━━━━━━━━━\u001b[0m\u001b[37m\u001b[0m \u001b[1m0s\u001b[0m 2ms/step - accuracy: 0.9790 - loss: 0.0766 - val_accuracy: 0.7800 - val_loss: 0.6697\n",
            "Training completed!\n"
          ]
        }
      ],
      "source": [
        "# Train the model\n",
        "early_stopping = EarlyStopping(monitor='val_loss', patience=5, restore_best_weights=True)\n",
        "\n",
        "print(\"Training the disaster classification model...\")\n",
        "history = model.fit(\n",
        "    X_train_split, y_train_split,\n",
        "    batch_size=64,\n",
        "    epochs=15,\n",
        "    validation_data=(X_val_split, y_val_split),\n",
        "    callbacks=[early_stopping],\n",
        "    verbose=1\n",
        ")\n",
        "\n",
        "print(\"Training completed!\")\n"
      ]
    },
    {
      "cell_type": "code",
      "execution_count": null,
      "metadata": {
        "id": "5__l5XR59sAD",
        "outputId": "bac81321-8b39-4a56-bb3e-acf7270f784f"
      },
      "outputs": [
        {
          "data": {
            "image/png": "[encoded data removed]",
            "text/plain": [
              "<Figure size 1200x400 with 2 Axes>"
            ]
          },
          "metadata": {},
          "output_type": "display_data"
        },
        {
          "name": "stdout",
          "output_type": "stream",
          "text": [
            "\u001b[1m48/48\u001b[0m \u001b[32m━━━━━━━━━━━━━━━━━━━━\u001b[0m\u001b[37m\u001b[0m \u001b[1m0s\u001b[0m 734us/step\n",
            "Validation F1 Score: 0.7614\n",
            "\n",
            "Classification Report:\n",
            "              precision    recall  f1-score   support\n",
            "\n",
            "Not Disaster       0.82      0.83      0.82       869\n",
            "    Disaster       0.77      0.75      0.76       654\n",
            "\n",
            "    accuracy                           0.80      1523\n",
            "   macro avg       0.79      0.79      0.79      1523\n",
            "weighted avg       0.80      0.80      0.80      1523\n",
            "\n"
          ]
        }
      ],
      "source": [
        "# Plot training history\n",
        "plt.figure(figsize=(12, 4))\n",
        "\n",
        "plt.subplot(1, 2, 1)\n",
        "plt.plot(history.history['loss'], label='Training Loss')\n",
        "plt.plot(history.history['val_loss'], label='Validation Loss')\n",
        "plt.title('Model Loss')\n",
        "plt.xlabel('Epoch')\n",
        "plt.ylabel('Loss')\n",
        "plt.legend()\n",
        "\n",
        "plt.subplot(1, 2, 2)\n",
        "plt.plot(history.history['accuracy'], label='Training Accuracy')\n",
        "plt.plot(history.history['val_accuracy'], label='Validation Accuracy')\n",
        "plt.title('Model Accuracy')\n",
        "plt.xlabel('Epoch')\n",
        "plt.ylabel('Accuracy')\n",
        "plt.legend()\n",
        "\n",
        "plt.tight_layout()\n",
        "plt.show()\n",
        "\n",
        "# Evaluate the model\n",
        "y_val_pred = model.predict(X_val_split)\n",
        "y_val_pred_binary = (y_val_pred > 0.5).astype(int).flatten()\n",
        "\n",
        "# Calculate F1 score (the competition metric)\n",
        "f1 = f1_score(y_val_split, y_val_pred_binary)\n",
        "print(f\"Validation F1 Score: {f1:.4f}\")\n",
        "\n",
        "# Classification report\n",
        "print(\"\\nClassification Report:\")\n",
        "print(classification_report(y_val_split, y_val_pred_binary,\n",
        "                          target_names=['Not Disaster', 'Disaster']))\n"
      ]
    },
    {
      "cell_type": "code",
      "execution_count": null,
      "metadata": {
        "id": "8dtSOHn99sAD",
        "outputId": "98697f7a-de0a-45cc-8106-428dee06d3ea"
      },
      "outputs": [
        {
          "name": "stdout",
          "output_type": "stream",
          "text": [
            "\u001b[1m102/102\u001b[0m \u001b[32m━━━━━━━━━━━━━━━━━━━━\u001b[0m\u001b[37m\u001b[0m \u001b[1m0s\u001b[0m 369us/step\n",
            "Submission file saved as 'disaster_tweets_submission.csv'\n",
            "\n",
            "Test Predictions:\n",
            "Not Disaster: 1956 (59.9%)\n",
            "Disaster: 1307 (40.1%)\n",
            "\n",
            "=== EXAMPLE PREDICTIONS ===\n",
            "\n",
            "Tweet: Rocky Fire #cali #SCFD #wildfire #LakeCounty https://t.co/3pu0000v5o...\n",
            "Prediction: DISASTER (confidence: 0.865)\n",
            "------------------------------------------------------------\n",
            "Tweet: First time for everything! @ Coney Island Cyclone https://t.co/SdNT3Dhs3W...\n",
            "Prediction: DISASTER (confidence: 0.642)\n",
            "------------------------------------------------------------\n",
            "Tweet: If you told me you was drowning. I would not lend a hand!...\n",
            "Prediction: NOT DISASTER (confidence: 0.052)\n",
            "------------------------------------------------------------\n",
            "Tweet: HitchBot travels Europe and greeted with open arms. Gets destroyed after two wee...\n",
            "Prediction: DISASTER (confidence: 0.587)\n",
            "------------------------------------------------------------\n",
            "Tweet: Free Kindle Book - Aug 3-7 - Thriller - Desolation Run by @jamessnyder22 http://...\n",
            "Prediction: NOT DISASTER (confidence: 0.132)\n",
            "------------------------------------------------------------\n"
          ]
        }
      ],
      "source": [
        "# Make predictions on test set\n",
        "test_predictions = model.predict(X_test_pad)\n",
        "test_predictions_binary = (test_predictions > 0.5).astype(int).flatten()\n",
        "\n",
        "# Create submission file\n",
        "submission = pd.DataFrame({\n",
        "    'id': test_df['id'],\n",
        "    'target': test_predictions_binary\n",
        "})\n",
        "\n",
        "submission.to_csv('disaster_tweets_submission.csv', index=False)\n",
        "print(\"Submission file saved as 'disaster_tweets_submission.csv'\")\n",
        "\n",
        "# Show prediction distribution\n",
        "pred_counts = pd.Series(test_predictions_binary).value_counts()\n",
        "print(f\"\\nTest Predictions:\")\n",
        "print(f\"Not Disaster: {pred_counts.get(0, 0)} ({pred_counts.get(0, 0)/len(test_predictions_binary)*100:.1f}%)\")\n",
        "print(f\"Disaster: {pred_counts.get(1, 0)} ({pred_counts.get(1, 0)/len(test_predictions_binary)*100:.1f}%)\")\n",
        "\n",
        "# Look at some example predictions\n",
        "print(\"\\n=== EXAMPLE PREDICTIONS ===\\n\")\n",
        "np.random.seed(42)  # For reproducible examples\n",
        "for i in range(5):\n",
        "    idx = np.random.randint(0, len(test_df))\n",
        "    prob = test_predictions[idx][0]\n",
        "    pred = test_predictions_binary[idx]\n",
        "\n",
        "    print(f\"Tweet: {test_df.iloc[idx]['text'][:80]}...\")\n",
        "    print(f\"Prediction: {'DISASTER' if pred == 1 else 'NOT DISASTER'} (confidence: {prob:.3f})\")\n",
        "    print(\"-\" * 60)\n"
      ]
    },
    {
      "cell_type": "markdown",
      "source": [
        "## 6. Conclusion and Discussion\n",
        "\n",
        "### What We Accomplished\n",
        "\n",
        "We successfully built an NLP model to classify disaster tweets with the following approach:\n",
        "\n",
        "1. **Data Understanding**: Analyzed 7,613 tweets with a roughly balanced distribution (57% non-disaster, 43% disaster)\n",
        "2. **Text Preprocessing**: Cleaned tweets by removing URLs, mentions, and normalizing text\n",
        "3. **Feature Engineering**: Used tokenization and word embeddings to convert text to numerical format\n",
        "4. **Model Architecture**: Implemented a neural network with embedding and global max pooling layers\n",
        "5. **Model Evaluation**: Achieved performance on validation data with room for improvement\n",
        "\n",
        "### What Worked Well\n",
        "1. **Simple Architecture**: Global Max Pooling proved effective and stable for text classification\n",
        "2. **Text Cleaning**: Removing noise improved model focus on meaningful content\n",
        "3. **Controlled Learning**: Lower learning rate and larger batch size improved training stability\n",
        "4. **Early Stopping**: Helped prevent overtraining and improved generalization\n",
        "\n",
        "### What Could Be Improved\n",
        "1. **More Sophisticated Preprocessing**: Could implement stemming, lemmatization, or stopword removal\n",
        "2. **Pre-trained Embeddings**: Using GloVe or Word2Vec embeddings might improve performance\n",
        "3. **Feature Engineering**: Could incorporate keyword and location information more effectively\n",
        "4. **Ensemble Methods**: Combining multiple models might boost performance\n",
        "5. **Data Augmentation**: Generating synthetic training examples could help with edge cases\n",
        "\n",
        "### Future Improvements\n",
        "1. **Transformer Models**: BERT or RoBERTa could provide better contextual understanding\n",
        "2. **Multi-modal Analysis**: Incorporating metadata like user location or tweet timing\n",
        "3. **Active Learning**: Iteratively improving the model with human feedback on edge cases\n",
        "4. **Real-time Deployment**: Building a system that can classify tweets in real-time\n",
        "\n",
        "### Key Learnings\n",
        "- **Context Matters**: The same word can mean different things (\"fire\" as disaster vs. \"fire\" as slang)\n",
        "- **Data Quality**: Clean, well-preprocessed text significantly improves model performance\n",
        "- **Architecture Choice**: Simpler models can be more effective than complex ones for certain tasks\n",
        "- **Evaluation Metrics**: F1 score is crucial for classification tasks like this one"
      ],
      "metadata": {
        "id": "7gAXIL0Q_6ch"
      }
    },
    {
      "cell_type": "markdown",
      "source": [
        "## References\n",
        "\n",
        "1. **Kaggle Competition**: Natural Language Processing with Disaster Tweets - https://www.kaggle.com/competitions/nlp-getting-started\n",
        "2. **Neural Networks for Text**: Deep Learning (Ian Goodfellow, Yoshua Bengio, Aaron Courville)\n",
        "3. **Text Preprocessing**: Natural Language Processing with Python (NLTK Book)\n",
        "4. **Keras Documentation**: https://keras.io/guides/sequential_model/\n",
        "5. **TensorFlow Text Processing**: https://www.tensorflow.org/tutorials/text/text_classification_rnn\n",
        "6. **F1 Score**: Powers, David MW (2011). \"Evaluation: from precision, recall and F-measure to ROC, informedness, markedness and correlation\""
      ],
      "metadata": {
        "id": "I1d0Buu2_91-"
      }
    }
  ],
  "metadata": {
    "kernelspec": {
      "display_name": "Python 3",
      "language": "python",
      "name": "python3"
    },
    "language_info": {
      "codemirror_mode": {
        "name": "ipython",
        "version": 3
      },
      "file_extension": ".py",
      "mimetype": "text/x-python",
      "name": "python",
      "nbconvert_exporter": "python",
      "pygments_lexer": "ipython3",
      "version": "3.9.6"
    },
    "colab": {
      "provenance": []
    }
  },
  "nbformat": 4,
  "nbformat_minor": 0
}